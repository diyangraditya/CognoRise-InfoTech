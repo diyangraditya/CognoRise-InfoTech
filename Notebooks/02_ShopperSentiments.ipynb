{
 "cells": [
  {
   "metadata": {},
   "cell_type": "markdown",
   "source": [
    "# SHOPPER SENTIMENTS ANALYSIS\n",
    "\n",
    "## Import Necessary Libraries"
   ],
   "id": "a0345e6546966944"
  },
  {
   "cell_type": "code",
   "id": "initial_id",
   "metadata": {
    "collapsed": true,
    "ExecuteTime": {
     "end_time": "2024-11-28T07:10:27.553045Z",
     "start_time": "2024-11-28T07:10:26.797687Z"
    }
   },
   "source": [
    "import pandas as pd\n",
    "import missingno as msno\n",
    "import nltk\n",
    "from nltk.corpus import stopwords\n",
    "from nltk.stem import WordNetLemmatizer\n",
    "import re\n",
    "\n",
    "nltk.download('stopwords')\n",
    "nltk.download('wordnet')"
   ],
   "outputs": [
    {
     "name": "stderr",
     "output_type": "stream",
     "text": [
      "[nltk_data] Downloading package stopwords to\n",
      "[nltk_data]     /home/diyrad167/nltk_data...\n",
      "[nltk_data]   Package stopwords is already up-to-date!\n",
      "[nltk_data] Downloading package wordnet to\n",
      "[nltk_data]     /home/diyrad167/nltk_data...\n",
      "[nltk_data]   Package wordnet is already up-to-date!\n"
     ]
    },
    {
     "data": {
      "text/plain": [
       "True"
      ]
     },
     "execution_count": 1,
     "metadata": {},
     "output_type": "execute_result"
    }
   ],
   "execution_count": 1
  },
  {
   "metadata": {
    "ExecuteTime": {
     "end_time": "2024-11-28T07:10:29.173496Z",
     "start_time": "2024-11-28T07:10:29.170780Z"
    }
   },
   "cell_type": "code",
   "source": [
    "stop_words = set(stopwords.words('english'))\n",
    "lemmatizer = WordNetLemmatizer()"
   ],
   "id": "dfb574accc22c366",
   "outputs": [],
   "execution_count": 2
  },
  {
   "metadata": {},
   "cell_type": "markdown",
   "source": "## Data Understanding",
   "id": "2b024fb68e8dea68"
  },
  {
   "metadata": {
    "ExecuteTime": {
     "end_time": "2024-11-28T07:10:32.560799Z",
     "start_time": "2024-11-28T07:10:31.604698Z"
    }
   },
   "cell_type": "code",
   "source": [
    "data = pd.read_csv('../Datasets/02_TeePublic_review.csv', encoding='ISO-8859-1')\n",
    "data"
   ],
   "id": "442e10260b88423e",
   "outputs": [
    {
     "data": {
      "text/plain": [
       "        reviewer_id store_location   latitude   longitude  date  month  \\\n",
       "0               0.0             US  37.090240  -95.712891  2023      6   \n",
       "1               1.0             US  37.090240  -95.712891  2023      6   \n",
       "2               2.0             US  37.090240  -95.712891  2023      6   \n",
       "3               3.0             US  37.090240  -95.712891  2023      6   \n",
       "4               4.0             CA  56.130366 -106.346771  2023      6   \n",
       "...             ...            ...        ...         ...   ...    ...   \n",
       "278095     278095.0             US  37.090240  -95.712891  2018      4   \n",
       "278096     278096.0             HR  45.100000   15.200000  2018      4   \n",
       "278097     278097.0             US  37.090240  -95.712891  2018      4   \n",
       "278098     278098.0             US  37.090240  -95.712891  2018      4   \n",
       "278099          NaN             US  37.090240  -95.712891  2018      4   \n",
       "\n",
       "                 year                                            title  \\\n",
       "0       2015 00:00:00                       Great help with lost order   \n",
       "1       2024 00:00:00    I ordered the wrong size tee and hadï¿½ï¿½ï¿½   \n",
       "2       2017 00:00:00      These guys offer the best customerï¿½ï¿½ï¿½   \n",
       "3       2024 00:00:00                                       Good Stuff   \n",
       "4       2023 00:00:00       My order arrived in a good timelyï¿½ï¿½ï¿½   \n",
       "...               ...                                              ...   \n",
       "278095  2027 00:00:00                                Highly recommend!   \n",
       "278096  2027 00:00:00                                    Great quality   \n",
       "278097  2027 00:00:00                                      Dudes rock.   \n",
       "278098  2027 00:00:00  Shipping was fast the T-shirt was justï¿½ï¿½ï¿½   \n",
       "278099  2027 00:00:00                                Not great quality   \n",
       "\n",
       "                                                   review  review-label  \n",
       "0       I had an order that was lost in transit. When ...             5  \n",
       "1       I ordered the wrong size tee and had difficult...             5  \n",
       "2       These guys offer the best customer service in ...             5  \n",
       "3       Looked for an obscure phrase on a shirt. Teepu...             5  \n",
       "4       My order arrived in a good timely fashion & th...             4  \n",
       "...                                                   ...           ...  \n",
       "278095  Delivery is quick, arrives when promised. Shir...             5  \n",
       "278096     Great quality, fast delivery, would recommend!             5  \n",
       "278097                             Dudes rock. Seriously.             5  \n",
       "278098  Shipping was fast the T-shirt was just right g...             5  \n",
       "278099  Print of t shirt was blurry and appeared faded...             2  \n",
       "\n",
       "[278100 rows x 10 columns]"
      ],
      "text/html": [
       "<div>\n",
       "<style scoped>\n",
       "    .dataframe tbody tr th:only-of-type {\n",
       "        vertical-align: middle;\n",
       "    }\n",
       "\n",
       "    .dataframe tbody tr th {\n",
       "        vertical-align: top;\n",
       "    }\n",
       "\n",
       "    .dataframe thead th {\n",
       "        text-align: right;\n",
       "    }\n",
       "</style>\n",
       "<table border=\"1\" class=\"dataframe\">\n",
       "  <thead>\n",
       "    <tr style=\"text-align: right;\">\n",
       "      <th></th>\n",
       "      <th>reviewer_id</th>\n",
       "      <th>store_location</th>\n",
       "      <th>latitude</th>\n",
       "      <th>longitude</th>\n",
       "      <th>date</th>\n",
       "      <th>month</th>\n",
       "      <th>year</th>\n",
       "      <th>title</th>\n",
       "      <th>review</th>\n",
       "      <th>review-label</th>\n",
       "    </tr>\n",
       "  </thead>\n",
       "  <tbody>\n",
       "    <tr>\n",
       "      <th>0</th>\n",
       "      <td>0.0</td>\n",
       "      <td>US</td>\n",
       "      <td>37.090240</td>\n",
       "      <td>-95.712891</td>\n",
       "      <td>2023</td>\n",
       "      <td>6</td>\n",
       "      <td>2015 00:00:00</td>\n",
       "      <td>Great help with lost order</td>\n",
       "      <td>I had an order that was lost in transit. When ...</td>\n",
       "      <td>5</td>\n",
       "    </tr>\n",
       "    <tr>\n",
       "      <th>1</th>\n",
       "      <td>1.0</td>\n",
       "      <td>US</td>\n",
       "      <td>37.090240</td>\n",
       "      <td>-95.712891</td>\n",
       "      <td>2023</td>\n",
       "      <td>6</td>\n",
       "      <td>2024 00:00:00</td>\n",
       "      <td>I ordered the wrong size tee and hadï¿½ï¿½ï¿½</td>\n",
       "      <td>I ordered the wrong size tee and had difficult...</td>\n",
       "      <td>5</td>\n",
       "    </tr>\n",
       "    <tr>\n",
       "      <th>2</th>\n",
       "      <td>2.0</td>\n",
       "      <td>US</td>\n",
       "      <td>37.090240</td>\n",
       "      <td>-95.712891</td>\n",
       "      <td>2023</td>\n",
       "      <td>6</td>\n",
       "      <td>2017 00:00:00</td>\n",
       "      <td>These guys offer the best customerï¿½ï¿½ï¿½</td>\n",
       "      <td>These guys offer the best customer service in ...</td>\n",
       "      <td>5</td>\n",
       "    </tr>\n",
       "    <tr>\n",
       "      <th>3</th>\n",
       "      <td>3.0</td>\n",
       "      <td>US</td>\n",
       "      <td>37.090240</td>\n",
       "      <td>-95.712891</td>\n",
       "      <td>2023</td>\n",
       "      <td>6</td>\n",
       "      <td>2024 00:00:00</td>\n",
       "      <td>Good Stuff</td>\n",
       "      <td>Looked for an obscure phrase on a shirt. Teepu...</td>\n",
       "      <td>5</td>\n",
       "    </tr>\n",
       "    <tr>\n",
       "      <th>4</th>\n",
       "      <td>4.0</td>\n",
       "      <td>CA</td>\n",
       "      <td>56.130366</td>\n",
       "      <td>-106.346771</td>\n",
       "      <td>2023</td>\n",
       "      <td>6</td>\n",
       "      <td>2023 00:00:00</td>\n",
       "      <td>My order arrived in a good timelyï¿½ï¿½ï¿½</td>\n",
       "      <td>My order arrived in a good timely fashion &amp; th...</td>\n",
       "      <td>4</td>\n",
       "    </tr>\n",
       "    <tr>\n",
       "      <th>...</th>\n",
       "      <td>...</td>\n",
       "      <td>...</td>\n",
       "      <td>...</td>\n",
       "      <td>...</td>\n",
       "      <td>...</td>\n",
       "      <td>...</td>\n",
       "      <td>...</td>\n",
       "      <td>...</td>\n",
       "      <td>...</td>\n",
       "      <td>...</td>\n",
       "    </tr>\n",
       "    <tr>\n",
       "      <th>278095</th>\n",
       "      <td>278095.0</td>\n",
       "      <td>US</td>\n",
       "      <td>37.090240</td>\n",
       "      <td>-95.712891</td>\n",
       "      <td>2018</td>\n",
       "      <td>4</td>\n",
       "      <td>2027 00:00:00</td>\n",
       "      <td>Highly recommend!</td>\n",
       "      <td>Delivery is quick, arrives when promised. Shir...</td>\n",
       "      <td>5</td>\n",
       "    </tr>\n",
       "    <tr>\n",
       "      <th>278096</th>\n",
       "      <td>278096.0</td>\n",
       "      <td>HR</td>\n",
       "      <td>45.100000</td>\n",
       "      <td>15.200000</td>\n",
       "      <td>2018</td>\n",
       "      <td>4</td>\n",
       "      <td>2027 00:00:00</td>\n",
       "      <td>Great quality</td>\n",
       "      <td>Great quality, fast delivery, would recommend!</td>\n",
       "      <td>5</td>\n",
       "    </tr>\n",
       "    <tr>\n",
       "      <th>278097</th>\n",
       "      <td>278097.0</td>\n",
       "      <td>US</td>\n",
       "      <td>37.090240</td>\n",
       "      <td>-95.712891</td>\n",
       "      <td>2018</td>\n",
       "      <td>4</td>\n",
       "      <td>2027 00:00:00</td>\n",
       "      <td>Dudes rock.</td>\n",
       "      <td>Dudes rock. Seriously.</td>\n",
       "      <td>5</td>\n",
       "    </tr>\n",
       "    <tr>\n",
       "      <th>278098</th>\n",
       "      <td>278098.0</td>\n",
       "      <td>US</td>\n",
       "      <td>37.090240</td>\n",
       "      <td>-95.712891</td>\n",
       "      <td>2018</td>\n",
       "      <td>4</td>\n",
       "      <td>2027 00:00:00</td>\n",
       "      <td>Shipping was fast the T-shirt was justï¿½ï¿½ï¿½</td>\n",
       "      <td>Shipping was fast the T-shirt was just right g...</td>\n",
       "      <td>5</td>\n",
       "    </tr>\n",
       "    <tr>\n",
       "      <th>278099</th>\n",
       "      <td>NaN</td>\n",
       "      <td>US</td>\n",
       "      <td>37.090240</td>\n",
       "      <td>-95.712891</td>\n",
       "      <td>2018</td>\n",
       "      <td>4</td>\n",
       "      <td>2027 00:00:00</td>\n",
       "      <td>Not great quality</td>\n",
       "      <td>Print of t shirt was blurry and appeared faded...</td>\n",
       "      <td>2</td>\n",
       "    </tr>\n",
       "  </tbody>\n",
       "</table>\n",
       "<p>278100 rows × 10 columns</p>\n",
       "</div>"
      ]
     },
     "execution_count": 3,
     "metadata": {},
     "output_type": "execute_result"
    }
   ],
   "execution_count": 3
  },
  {
   "metadata": {
    "ExecuteTime": {
     "end_time": "2024-11-28T07:32:54.613634Z",
     "start_time": "2024-11-28T07:32:54.551589Z"
    }
   },
   "cell_type": "code",
   "source": "data.info()",
   "id": "8b871949fe5054c",
   "outputs": [
    {
     "name": "stdout",
     "output_type": "stream",
     "text": [
      "<class 'pandas.core.frame.DataFrame'>\n",
      "RangeIndex: 278100 entries, 0 to 278099\n",
      "Data columns (total 10 columns):\n",
      " #   Column          Non-Null Count   Dtype  \n",
      "---  ------          --------------   -----  \n",
      " 0   reviewer_id     278099 non-null  float64\n",
      " 1   store_location  278100 non-null  object \n",
      " 2   latitude        278100 non-null  float64\n",
      " 3   longitude       278100 non-null  float64\n",
      " 4   date            278100 non-null  int64  \n",
      " 5   month           278100 non-null  int64  \n",
      " 6   year            278100 non-null  object \n",
      " 7   title           278088 non-null  object \n",
      " 8   review          247597 non-null  object \n",
      " 9   review-label    278100 non-null  int64  \n",
      "dtypes: float64(3), int64(3), object(4)\n",
      "memory usage: 21.2+ MB\n"
     ]
    }
   ],
   "execution_count": 8
  },
  {
   "metadata": {
    "ExecuteTime": {
     "end_time": "2024-11-28T07:10:36.428719Z",
     "start_time": "2024-11-28T07:10:35.705236Z"
    }
   },
   "cell_type": "code",
   "source": "msno.matrix(data)",
   "id": "182eef5c0b1cd25d",
   "outputs": [
    {
     "data": {
      "text/plain": [
       "<Axes: >"
      ]
     },
     "execution_count": 4,
     "metadata": {},
     "output_type": "execute_result"
    },
    {
     "data": {
      "text/plain": [
       "<Figure size 2500x1000 with 2 Axes>"
      ],
      "image/png": "[encoded data removed]"
     },
     "metadata": {},
     "output_type": "display_data"
    }
   ],
   "execution_count": 4
  },
  {
   "metadata": {
    "ExecuteTime": {
     "end_time": "2024-11-28T07:10:38.600533Z",
     "start_time": "2024-11-28T07:10:38.555762Z"
    }
   },
   "cell_type": "code",
   "source": "data.isna().sum()",
   "id": "227dc0c31bbfeac7",
   "outputs": [
    {
     "data": {
      "text/plain": [
       "reviewer_id           1\n",
       "store_location        0\n",
       "latitude              0\n",
       "longitude             0\n",
       "date                  0\n",
       "month                 0\n",
       "year                  0\n",
       "title                12\n",
       "review            30503\n",
       "review-label          0\n",
       "dtype: int64"
      ]
     },
     "execution_count": 5,
     "metadata": {},
     "output_type": "execute_result"
    }
   ],
   "execution_count": 5
  },
  {
   "metadata": {
    "ExecuteTime": {
     "end_time": "2024-11-28T07:10:41.934359Z",
     "start_time": "2024-11-28T07:10:41.931109Z"
    }
   },
   "cell_type": "code",
   "source": "data.shape",
   "id": "bd68af03c3dd8035",
   "outputs": [
    {
     "data": {
      "text/plain": [
       "(278100, 10)"
      ]
     },
     "execution_count": 6,
     "metadata": {},
     "output_type": "execute_result"
    }
   ],
   "execution_count": 6
  },
  {
   "metadata": {},
   "cell_type": "markdown",
   "source": "## Data Cleaning",
   "id": "93f43f12a27b75d6"
  },
  {
   "metadata": {
    "ExecuteTime": {
     "end_time": "2024-11-28T07:32:38.138904Z",
     "start_time": "2024-11-28T07:32:38.110073Z"
    }
   },
   "cell_type": "code",
   "source": [
    "data1 = data.drop(['reviewer_id'], axis=1)\n",
    "data1"
   ],
   "id": "ef708271dcca0ca8",
   "outputs": [
    {
     "data": {
      "text/plain": [
       "       store_location   latitude   longitude  date  month           year  \\\n",
       "0                  US  37.090240  -95.712891  2023      6  2015 00:00:00   \n",
       "1                  US  37.090240  -95.712891  2023      6  2024 00:00:00   \n",
       "2                  US  37.090240  -95.712891  2023      6  2017 00:00:00   \n",
       "3                  US  37.090240  -95.712891  2023      6  2024 00:00:00   \n",
       "4                  CA  56.130366 -106.346771  2023      6  2023 00:00:00   \n",
       "...               ...        ...         ...   ...    ...            ...   \n",
       "278095             US  37.090240  -95.712891  2018      4  2027 00:00:00   \n",
       "278096             HR  45.100000   15.200000  2018      4  2027 00:00:00   \n",
       "278097             US  37.090240  -95.712891  2018      4  2027 00:00:00   \n",
       "278098             US  37.090240  -95.712891  2018      4  2027 00:00:00   \n",
       "278099             US  37.090240  -95.712891  2018      4  2027 00:00:00   \n",
       "\n",
       "                                                  title  \\\n",
       "0                            Great help with lost order   \n",
       "1         I ordered the wrong size tee and hadï¿½ï¿½ï¿½   \n",
       "2           These guys offer the best customerï¿½ï¿½ï¿½   \n",
       "3                                            Good Stuff   \n",
       "4            My order arrived in a good timelyï¿½ï¿½ï¿½   \n",
       "...                                                 ...   \n",
       "278095                                Highly recommend!   \n",
       "278096                                    Great quality   \n",
       "278097                                      Dudes rock.   \n",
       "278098  Shipping was fast the T-shirt was justï¿½ï¿½ï¿½   \n",
       "278099                                Not great quality   \n",
       "\n",
       "                                                   review  review-label  \n",
       "0       I had an order that was lost in transit. When ...             5  \n",
       "1       I ordered the wrong size tee and had difficult...             5  \n",
       "2       These guys offer the best customer service in ...             5  \n",
       "3       Looked for an obscure phrase on a shirt. Teepu...             5  \n",
       "4       My order arrived in a good timely fashion & th...             4  \n",
       "...                                                   ...           ...  \n",
       "278095  Delivery is quick, arrives when promised. Shir...             5  \n",
       "278096     Great quality, fast delivery, would recommend!             5  \n",
       "278097                             Dudes rock. Seriously.             5  \n",
       "278098  Shipping was fast the T-shirt was just right g...             5  \n",
       "278099  Print of t shirt was blurry and appeared faded...             2  \n",
       "\n",
       "[278100 rows x 9 columns]"
      ],
      "text/html": [
       "<div>\n",
       "<style scoped>\n",
       "    .dataframe tbody tr th:only-of-type {\n",
       "        vertical-align: middle;\n",
       "    }\n",
       "\n",
       "    .dataframe tbody tr th {\n",
       "        vertical-align: top;\n",
       "    }\n",
       "\n",
       "    .dataframe thead th {\n",
       "        text-align: right;\n",
       "    }\n",
       "</style>\n",
       "<table border=\"1\" class=\"dataframe\">\n",
       "  <thead>\n",
       "    <tr style=\"text-align: right;\">\n",
       "      <th></th>\n",
       "      <th>store_location</th>\n",
       "      <th>latitude</th>\n",
       "      <th>longitude</th>\n",
       "      <th>date</th>\n",
       "      <th>month</th>\n",
       "      <th>year</th>\n",
       "      <th>title</th>\n",
       "      <th>review</th>\n",
       "      <th>review-label</th>\n",
       "    </tr>\n",
       "  </thead>\n",
       "  <tbody>\n",
       "    <tr>\n",
       "      <th>0</th>\n",
       "      <td>US</td>\n",
       "      <td>37.090240</td>\n",
       "      <td>-95.712891</td>\n",
       "      <td>2023</td>\n",
       "      <td>6</td>\n",
       "      <td>2015 00:00:00</td>\n",
       "      <td>Great help with lost order</td>\n",
       "      <td>I had an order that was lost in transit. When ...</td>\n",
       "      <td>5</td>\n",
       "    </tr>\n",
       "    <tr>\n",
       "      <th>1</th>\n",
       "      <td>US</td>\n",
       "      <td>37.090240</td>\n",
       "      <td>-95.712891</td>\n",
       "      <td>2023</td>\n",
       "      <td>6</td>\n",
       "      <td>2024 00:00:00</td>\n",
       "      <td>I ordered the wrong size tee and hadï¿½ï¿½ï¿½</td>\n",
       "      <td>I ordered the wrong size tee and had difficult...</td>\n",
       "      <td>5</td>\n",
       "    </tr>\n",
       "    <tr>\n",
       "      <th>2</th>\n",
       "      <td>US</td>\n",
       "      <td>37.090240</td>\n",
       "      <td>-95.712891</td>\n",
       "      <td>2023</td>\n",
       "      <td>6</td>\n",
       "      <td>2017 00:00:00</td>\n",
       "      <td>These guys offer the best customerï¿½ï¿½ï¿½</td>\n",
       "      <td>These guys offer the best customer service in ...</td>\n",
       "      <td>5</td>\n",
       "    </tr>\n",
       "    <tr>\n",
       "      <th>3</th>\n",
       "      <td>US</td>\n",
       "      <td>37.090240</td>\n",
       "      <td>-95.712891</td>\n",
       "      <td>2023</td>\n",
       "      <td>6</td>\n",
       "      <td>2024 00:00:00</td>\n",
       "      <td>Good Stuff</td>\n",
       "      <td>Looked for an obscure phrase on a shirt. Teepu...</td>\n",
       "      <td>5</td>\n",
       "    </tr>\n",
       "    <tr>\n",
       "      <th>4</th>\n",
       "      <td>CA</td>\n",
       "      <td>56.130366</td>\n",
       "      <td>-106.346771</td>\n",
       "      <td>2023</td>\n",
       "      <td>6</td>\n",
       "      <td>2023 00:00:00</td>\n",
       "      <td>My order arrived in a good timelyï¿½ï¿½ï¿½</td>\n",
       "      <td>My order arrived in a good timely fashion &amp; th...</td>\n",
       "      <td>4</td>\n",
       "    </tr>\n",
       "    <tr>\n",
       "      <th>...</th>\n",
       "      <td>...</td>\n",
       "      <td>...</td>\n",
       "      <td>...</td>\n",
       "      <td>...</td>\n",
       "      <td>...</td>\n",
       "      <td>...</td>\n",
       "      <td>...</td>\n",
       "      <td>...</td>\n",
       "      <td>...</td>\n",
       "    </tr>\n",
       "    <tr>\n",
       "      <th>278095</th>\n",
       "      <td>US</td>\n",
       "      <td>37.090240</td>\n",
       "      <td>-95.712891</td>\n",
       "      <td>2018</td>\n",
       "      <td>4</td>\n",
       "      <td>2027 00:00:00</td>\n",
       "      <td>Highly recommend!</td>\n",
       "      <td>Delivery is quick, arrives when promised. Shir...</td>\n",
       "      <td>5</td>\n",
       "    </tr>\n",
       "    <tr>\n",
       "      <th>278096</th>\n",
       "      <td>HR</td>\n",
       "      <td>45.100000</td>\n",
       "      <td>15.200000</td>\n",
       "      <td>2018</td>\n",
       "      <td>4</td>\n",
       "      <td>2027 00:00:00</td>\n",
       "      <td>Great quality</td>\n",
       "      <td>Great quality, fast delivery, would recommend!</td>\n",
       "      <td>5</td>\n",
       "    </tr>\n",
       "    <tr>\n",
       "      <th>278097</th>\n",
       "      <td>US</td>\n",
       "      <td>37.090240</td>\n",
       "      <td>-95.712891</td>\n",
       "      <td>2018</td>\n",
       "      <td>4</td>\n",
       "      <td>2027 00:00:00</td>\n",
       "      <td>Dudes rock.</td>\n",
       "      <td>Dudes rock. Seriously.</td>\n",
       "      <td>5</td>\n",
       "    </tr>\n",
       "    <tr>\n",
       "      <th>278098</th>\n",
       "      <td>US</td>\n",
       "      <td>37.090240</td>\n",
       "      <td>-95.712891</td>\n",
       "      <td>2018</td>\n",
       "      <td>4</td>\n",
       "      <td>2027 00:00:00</td>\n",
       "      <td>Shipping was fast the T-shirt was justï¿½ï¿½ï¿½</td>\n",
       "      <td>Shipping was fast the T-shirt was just right g...</td>\n",
       "      <td>5</td>\n",
       "    </tr>\n",
       "    <tr>\n",
       "      <th>278099</th>\n",
       "      <td>US</td>\n",
       "      <td>37.090240</td>\n",
       "      <td>-95.712891</td>\n",
       "      <td>2018</td>\n",
       "      <td>4</td>\n",
       "      <td>2027 00:00:00</td>\n",
       "      <td>Not great quality</td>\n",
       "      <td>Print of t shirt was blurry and appeared faded...</td>\n",
       "      <td>2</td>\n",
       "    </tr>\n",
       "  </tbody>\n",
       "</table>\n",
       "<p>278100 rows × 9 columns</p>\n",
       "</div>"
      ]
     },
     "execution_count": 7,
     "metadata": {},
     "output_type": "execute_result"
    }
   ],
   "execution_count": 7
  },
  {
   "metadata": {
    "ExecuteTime": {
     "end_time": "2024-11-28T07:34:40.230622Z",
     "start_time": "2024-11-28T07:34:40.216870Z"
    }
   },
   "cell_type": "code",
   "source": "data['store_location'].value_counts()",
   "id": "1341ae1e69356455",
   "outputs": [
    {
     "data": {
      "text/plain": [
       "store_location\n",
       "US    249328\n",
       "CA     13125\n",
       "AU      4673\n",
       "GB      4650\n",
       "DE      1142\n",
       "       ...  \n",
       "CI         1\n",
       "MW         1\n",
       "CW         1\n",
       "MO         1\n",
       "UG         1\n",
       "Name: count, Length: 141, dtype: int64"
      ]
     },
     "execution_count": 11,
     "metadata": {},
     "output_type": "execute_result"
    }
   ],
   "execution_count": 11
  }
 ],
 "metadata": {
  "kernelspec": {
   "display_name": "Python 3",
   "language": "python",
   "name": "python3"
  },
  "language_info": {
   "codemirror_mode": {
    "name": "ipython",
    "version": 2
   },
   "file_extension": ".py",
   "mimetype": "text/x-python",
   "name": "python",
   "nbconvert_exporter": "python",
   "pygments_lexer": "ipython2",
   "version": "2.7.6"
  }
 },
 "nbformat": 4,
 "nbformat_minor": 5
}
